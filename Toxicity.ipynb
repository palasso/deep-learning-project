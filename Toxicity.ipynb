{
  "nbformat": 4,
  "nbformat_minor": 0,
  "metadata": {
    "colab": {
      "name": "Toxicity.ipynb",
      "version": "0.3.2",
      "provenance": [],
      "collapsed_sections": []
    },
    "kernelspec": {
      "name": "python3",
      "display_name": "Python 3"
    },
    "accelerator": "GPU"
  },
  "cells": [
    {
      "metadata": {
        "id": "6yoHQXCyA_H8",
        "colab_type": "text"
      },
      "cell_type": "markdown",
      "source": [
        "# Mount GDrive"
      ]
    },
    {
      "metadata": {
        "id": "0rsJwBljGrPn",
        "colab_type": "code",
        "outputId": "e5b96b4f-c503-49cb-82a0-cd6471399ce6",
        "colab": {
          "base_uri": "https://localhost:8080/",
          "height": 35
        }
      },
      "cell_type": "code",
      "source": [
        "from google.colab import drive\n",
        "drive.mount('/content/gdrive')"
      ],
      "execution_count": 1,
      "outputs": [
        {
          "output_type": "stream",
          "text": [
            "Drive already mounted at /content/gdrive; to attempt to forcibly remount, call drive.mount(\"/content/gdrive\", force_remount=True).\n"
          ],
          "name": "stdout"
        }
      ]
    },
    {
      "metadata": {
        "id": "ja_9AfrSeK-b",
        "colab_type": "code",
        "colab": {
          "base_uri": "https://localhost:8080/",
          "height": 182
        },
        "outputId": "3eefe950-c303-4824-d2c9-0aec3c523999"
      },
      "cell_type": "code",
      "source": [
        "!pip3 install keras-self-attention"
      ],
      "execution_count": 2,
      "outputs": [
        {
          "output_type": "stream",
          "text": [
            "Requirement already satisfied: keras-self-attention in /usr/local/lib/python3.6/dist-packages (0.36.0)\n",
            "Requirement already satisfied: Keras in /usr/local/lib/python3.6/dist-packages (from keras-self-attention) (2.2.4)\n",
            "Requirement already satisfied: numpy in /usr/local/lib/python3.6/dist-packages (from keras-self-attention) (1.14.6)\n",
            "Requirement already satisfied: keras-preprocessing>=1.0.5 in /usr/local/lib/python3.6/dist-packages (from Keras->keras-self-attention) (1.0.9)\n",
            "Requirement already satisfied: pyyaml in /usr/local/lib/python3.6/dist-packages (from Keras->keras-self-attention) (3.13)\n",
            "Requirement already satisfied: keras-applications>=1.0.6 in /usr/local/lib/python3.6/dist-packages (from Keras->keras-self-attention) (1.0.7)\n",
            "Requirement already satisfied: h5py in /usr/local/lib/python3.6/dist-packages (from Keras->keras-self-attention) (2.8.0)\n",
            "Requirement already satisfied: six>=1.9.0 in /usr/local/lib/python3.6/dist-packages (from Keras->keras-self-attention) (1.11.0)\n",
            "Requirement already satisfied: scipy>=0.14 in /usr/local/lib/python3.6/dist-packages (from Keras->keras-self-attention) (1.1.0)\n"
          ],
          "name": "stdout"
        }
      ]
    },
    {
      "metadata": {
        "id": "hoP8LZh1BO2Z",
        "colab_type": "text"
      },
      "cell_type": "markdown",
      "source": [
        "# Import libraries"
      ]
    },
    {
      "metadata": {
        "id": "wlL2Qh7RK-aG",
        "colab_type": "code",
        "outputId": "b964fbb9-f79f-4245-96ae-22c4155f1845",
        "colab": {
          "base_uri": "https://localhost:8080/",
          "height": 35
        }
      },
      "cell_type": "code",
      "source": [
        "import sys, os, re, csv, codecs, numpy as np, pandas as pd\n",
        "import matplotlib.pyplot as plt\n",
        "from keras.preprocessing.text import Tokenizer\n",
        "from keras.preprocessing.sequence import pad_sequences\n",
        "from keras.layers import Dense, Input, LSTM, Embedding, Dropout, Activation, CuDNNLSTM\n",
        "from keras.layers import Bidirectional, GlobalMaxPool1D\n",
        "from keras.models import Model\n",
        "from keras.callbacks import Callback\n",
        "from keras.optimizers import Adam\n",
        "from keras import initializers, regularizers, constraints, optimizers, layers\n",
        "from keras_self_attention import SeqSelfAttention\n",
        "from sklearn.metrics import roc_auc_score\n",
        "from sklearn.model_selection import train_test_split\n",
        "%matplotlib inline"
      ],
      "execution_count": 3,
      "outputs": [
        {
          "output_type": "stream",
          "text": [
            "Using TensorFlow backend.\n"
          ],
          "name": "stderr"
        }
      ]
    },
    {
      "metadata": {
        "id": "y_3ixgr6ydAN",
        "colab_type": "text"
      },
      "cell_type": "markdown",
      "source": [
        "# Import data from GDrive"
      ]
    },
    {
      "metadata": {
        "id": "gxA_i5YXJyRl",
        "colab_type": "code",
        "colab": {}
      },
      "cell_type": "code",
      "source": [
        "path =  \"gdrive/My Drive/Colab Notebooks/Toxic Comments/\""
      ],
      "execution_count": 0,
      "outputs": []
    },
    {
      "metadata": {
        "id": "4h3RglY8JGVm",
        "colab_type": "code",
        "colab": {}
      },
      "cell_type": "code",
      "source": [
        "train = pd.read_csv(path + 'train.csv')\n",
        "test = pd.read_csv(path + 'test.csv')\n",
        "test_labels = pd.read_csv(path + 'test_labels.csv')\n",
        "sample_submission = pd.read_csv(path + 'sample_submission.csv')"
      ],
      "execution_count": 0,
      "outputs": []
    },
    {
      "metadata": {
        "id": "LlxcjxLYBSGE",
        "colab_type": "text"
      },
      "cell_type": "markdown",
      "source": [
        "# Preprocessing\n",
        "\n",
        "Check for null values."
      ]
    },
    {
      "metadata": {
        "id": "WD-NXdGCLghj",
        "colab_type": "code",
        "outputId": "66066dca-d451-4d1e-f845-082094ff6f36",
        "colab": {
          "base_uri": "https://localhost:8080/",
          "height": 219
        }
      },
      "cell_type": "code",
      "source": [
        "train.isnull().any(),test.isnull().any()"
      ],
      "execution_count": 6,
      "outputs": [
        {
          "output_type": "execute_result",
          "data": {
            "text/plain": [
              "(id               False\n",
              " comment_text     False\n",
              " toxic            False\n",
              " severe_toxic     False\n",
              " obscene          False\n",
              " threat           False\n",
              " insult           False\n",
              " identity_hate    False\n",
              " dtype: bool, id              False\n",
              " comment_text    False\n",
              " dtype: bool)"
            ]
          },
          "metadata": {
            "tags": []
          },
          "execution_count": 6
        }
      ]
    },
    {
      "metadata": {
        "id": "HcDYAtAKTasz",
        "colab_type": "code",
        "colab": {}
      },
      "cell_type": "code",
      "source": [
        "list_classes = [\"toxic\", \"severe_toxic\", \"obscene\", \"threat\", \"insult\", \"identity_hate\"]\n",
        "y = train[list_classes].values\n",
        "list_sentences_train = train[\"comment_text\"]\n",
        "list_sentences_test = test[\"comment_text\"]"
      ],
      "execution_count": 0,
      "outputs": []
    },
    {
      "metadata": {
        "id": "R-ZuarQFBjlf",
        "colab_type": "text"
      },
      "cell_type": "markdown",
      "source": [
        "# Tokenize text\n",
        "\n",
        "We tokenize words and sentences.\n",
        "\n",
        "We need to identify ideal max length `maxlen` for sentence as well as max num of features `max_features`."
      ]
    },
    {
      "metadata": {
        "id": "NlKYHPtswVqn",
        "colab_type": "code",
        "colab": {}
      },
      "cell_type": "code",
      "source": [
        "max_features = 20000\n",
        "tokenizer = Tokenizer(num_words=max_features)\n",
        "tokenizer.fit_on_texts(list(list_sentences_train))\n",
        "list_tokenized_train = tokenizer.texts_to_sequences(list_sentences_train)\n",
        "list_tokenized_test = tokenizer.texts_to_sequences(list_sentences_test)"
      ],
      "execution_count": 0,
      "outputs": []
    },
    {
      "metadata": {
        "id": "Ssr5xycPwm2Z",
        "colab_type": "code",
        "colab": {}
      },
      "cell_type": "code",
      "source": [
        "totalNumWords = [len(one_comment) for one_comment in list_tokenized_train]"
      ],
      "execution_count": 0,
      "outputs": []
    },
    {
      "metadata": {
        "id": "P2XoQXN5_GCT",
        "colab_type": "code",
        "outputId": "e7279c6d-5d29-4444-991d-f4b616996357",
        "colab": {
          "base_uri": "https://localhost:8080/",
          "height": 265
        }
      },
      "cell_type": "code",
      "source": [
        "plt.hist(totalNumWords,bins = np.arange(0,410,10))#[0,50,100,150,200,250,300,350,400])#,450,500,550,600,650,700,750,800,850,900])\n",
        "plt.show()"
      ],
      "execution_count": 10,
      "outputs": [
        {
          "output_type": "display_data",
          "data": {
            "image/png": "[encoded data removed]",
            "text/plain": [
              "<Figure size 432x288 with 1 Axes>"
            ]
          },
          "metadata": {
            "tags": []
          }
        }
      ]
    },
    {
      "metadata": {
        "id": "-LjTPY9gAw-q",
        "colab_type": "code",
        "colab": {}
      },
      "cell_type": "code",
      "source": [
        "maxlen = 200\n",
        "X_t = pad_sequences(list_tokenized_train, maxlen=maxlen)\n",
        "X_te = pad_sequences(list_tokenized_test, maxlen=maxlen)"
      ],
      "execution_count": 0,
      "outputs": []
    },
    {
      "metadata": {
        "id": "JvfWtgtZBmhQ",
        "colab_type": "text"
      },
      "cell_type": "markdown",
      "source": [
        "# Define helper methods\n",
        "\n",
        "Define ROC AOC and a method for plotting train and validation loss."
      ]
    },
    {
      "metadata": {
        "id": "qEjwfJ3cBhWO",
        "colab_type": "code",
        "colab": {}
      },
      "cell_type": "code",
      "source": [
        "class RocAucEvaluation(Callback):\n",
        "    def __init__(self, validation_data=(), interval=1):\n",
        "        super(Callback, self).__init__()\n",
        "\n",
        "        self.interval = interval\n",
        "        self.X_val, self.y_val = validation_data\n",
        "\n",
        "    def on_epoch_end(self, epoch, logs={}):\n",
        "        if epoch % self.interval == 0:\n",
        "            y_pred = self.model.predict(self.X_val, verbose=0)\n",
        "            score = roc_auc_score(self.y_val, y_pred)\n",
        "            print(\"\\n ROC-AUC - epoch: {:d} - score: {:.6f}\".format(epoch+1, score))"
      ],
      "execution_count": 0,
      "outputs": []
    },
    {
      "metadata": {
        "id": "zODIdpxEpBYI",
        "colab_type": "code",
        "colab": {}
      },
      "cell_type": "code",
      "source": [
        "def plot_history(hs, epochs):\n",
        "    plt.rcParams['figure.figsize'] = [10, 5]\n",
        "    plt.rcParams['font.size'] = 16\n",
        "    for label in hs:\n",
        "        plt.plot(hs[label].history['loss'], label='{0:s} train loss'.format(label))\n",
        "        plt.plot(hs[label].history['val_loss'], label='{0:s} validation loss'.format(label))\n",
        "    x_ticks = np.arange(0, epochs + 1, epochs / 5)\n",
        "    x_ticks [0] += 1\n",
        "    plt.xticks(x_ticks-1, ('1', '1', '2', '3', '4', '5'))\n",
        "    plt.ylim((0, 0.1))\n",
        "    plt.xlabel('Epochs')\n",
        "    plt.ylabel('binary crossentropy')\n",
        "    plt.legend()\n",
        "    plt.show()"
      ],
      "execution_count": 0,
      "outputs": []
    },
    {
      "metadata": {
        "id": "sFFgHeQ7B8ja",
        "colab_type": "text"
      },
      "cell_type": "markdown",
      "source": [
        "# Compiling the model"
      ]
    },
    {
      "metadata": {
        "id": "DoAQI18fea2j",
        "colab_type": "code",
        "colab": {}
      },
      "cell_type": "code",
      "source": [
        "def compile_model(dropout=0.2, lr=0.1):\n",
        "  inp = Input(shape=(maxlen, ))\n",
        "  embed_size = 128\n",
        "  x = Embedding(max_features, embed_size)(inp)\n",
        "  x = CuDNNLSTM(128, return_sequences=True)(x)\n",
        "  x = Dropout(dropout)(x)\n",
        "  x = SeqSelfAttention()(x)\n",
        "  x = GlobalMaxPool1D()(x)\n",
        "  x = Dense(6, activation=\"sigmoid\")(x)\n",
        "  model = Model(inputs=inp, outputs=x)\n",
        "  model.compile(loss='binary_crossentropy', optimizer=Adam(lr=lr), metrics=['accuracy'])\n",
        "  return model"
      ],
      "execution_count": 0,
      "outputs": []
    },
    {
      "metadata": {
        "id": "mLrBTSAf7qqf",
        "colab_type": "text"
      },
      "cell_type": "markdown",
      "source": [
        "# Split train data\n",
        "\n",
        "We split train data into train, held-out and validation data."
      ]
    },
    {
      "metadata": {
        "id": "XucU-UB0701V",
        "colab_type": "code",
        "colab": {
          "base_uri": "https://localhost:8080/",
          "height": 54
        },
        "outputId": "6f24b0f4-d10e-4ffb-ec80-7ab277bef571"
      },
      "cell_type": "code",
      "source": [
        "X_tra, X_val, y_tra, y_val = train_test_split(X_t, y, train_size=0.9)\n",
        "X_tra, X_hel, y_tra, y_hel = train_test_split(X_tra, y_tra, train_size=0.9)"
      ],
      "execution_count": 15,
      "outputs": [
        {
          "output_type": "stream",
          "text": [
            "/usr/local/lib/python3.6/dist-packages/sklearn/model_selection/_split.py:2179: FutureWarning: From version 0.21, test_size will always complement train_size unless both are specified.\n",
            "  FutureWarning)\n"
          ],
          "name": "stderr"
        }
      ]
    },
    {
      "metadata": {
        "id": "3eHLOJ2K4VK1",
        "colab_type": "text"
      },
      "cell_type": "markdown",
      "source": [
        "# Hyper-parameter tuning for learning rate"
      ]
    },
    {
      "metadata": {
        "id": "MHVpYd1n4bCE",
        "colab_type": "code",
        "colab": {
          "base_uri": "https://localhost:8080/",
          "height": 698
        },
        "outputId": "0590bcc9-35b0-4fe3-f656-f351666253cf"
      },
      "cell_type": "code",
      "source": [
        "epochs = 1\n",
        "batch_size = 32\n",
        "RocAuc = RocAucEvaluation(validation_data=(X_hel, y_hel), interval=1)\n",
        "\n",
        "for i in range(1, 5):\n",
        "  lr = i/1000\n",
        "  model = compile_model(lr=lr)\n",
        "  print(\"Learning rate: {:.3f}\".format(lr))\n",
        "  history = model.fit(X_tra, y_tra, batch_size=batch_size, epochs=epochs, validation_data=(X_hel, y_hel),\n",
        "                 callbacks=[RocAuc], verbose=2)"
      ],
      "execution_count": 16,
      "outputs": [
        {
          "output_type": "stream",
          "text": [
            "WARNING:tensorflow:From /usr/local/lib/python3.6/dist-packages/tensorflow/python/framework/op_def_library.py:263: colocate_with (from tensorflow.python.framework.ops) is deprecated and will be removed in a future version.\n",
            "Instructions for updating:\n",
            "Colocations handled automatically by placer.\n",
            "WARNING:tensorflow:From /usr/local/lib/python3.6/dist-packages/keras/backend/tensorflow_backend.py:3445: calling dropout (from tensorflow.python.ops.nn_ops) with keep_prob is deprecated and will be removed in a future version.\n",
            "Instructions for updating:\n",
            "Please use `rate` instead of `keep_prob`. Rate should be set to `rate = 1 - keep_prob`.\n",
            "Learning rate: 0.001\n",
            "WARNING:tensorflow:From /usr/local/lib/python3.6/dist-packages/tensorflow/python/ops/math_ops.py:3066: to_int32 (from tensorflow.python.ops.math_ops) is deprecated and will be removed in a future version.\n",
            "Instructions for updating:\n",
            "Use tf.cast instead.\n",
            "WARNING:tensorflow:From /usr/local/lib/python3.6/dist-packages/tensorflow/python/ops/math_grad.py:102: div (from tensorflow.python.ops.math_ops) is deprecated and will be removed in a future version.\n",
            "Instructions for updating:\n",
            "Deprecated in favor of operator or tf.math.divide.\n",
            "Train on 129251 samples, validate on 14362 samples\n",
            "Epoch 1/1\n",
            " - 312s - loss: 0.0745 - acc: 0.9757 - val_loss: 0.0481 - val_acc: 0.9825\n",
            "\n",
            " ROC-AUC - epoch: 1 - score: 0.977226\n",
            "Learning rate: 0.002\n",
            "Train on 129251 samples, validate on 14362 samples\n",
            "Epoch 1/1\n",
            " - 313s - loss: 0.0622 - acc: 0.9791 - val_loss: 0.0447 - val_acc: 0.9834\n",
            "\n",
            " ROC-AUC - epoch: 1 - score: 0.981692\n",
            "Learning rate: 0.003\n",
            "Train on 129251 samples, validate on 14362 samples\n",
            "Epoch 1/1\n",
            " - 315s - loss: 0.0643 - acc: 0.9783 - val_loss: 0.0457 - val_acc: 0.9827\n",
            "\n",
            " ROC-AUC - epoch: 1 - score: 0.980762\n",
            "Learning rate: 0.004\n",
            "Train on 129251 samples, validate on 14362 samples\n",
            "Epoch 1/1\n",
            " - 315s - loss: 0.0661 - acc: 0.9781 - val_loss: 0.0481 - val_acc: 0.9822\n",
            "\n",
            " ROC-AUC - epoch: 1 - score: 0.975299\n"
          ],
          "name": "stdout"
        }
      ]
    },
    {
      "metadata": {
        "id": "te9vNY-OFc-a",
        "colab_type": "text"
      },
      "cell_type": "markdown",
      "source": [
        "# Early stopping"
      ]
    },
    {
      "metadata": {
        "id": "k9tauKf_Wp8c",
        "colab_type": "code",
        "colab": {
          "base_uri": "https://localhost:8080/",
          "height": 403
        },
        "outputId": "0a6f687c-d81d-4d13-c4c3-4a060e3e2e04"
      },
      "cell_type": "code",
      "source": [
        "epochs = 5\n",
        "\n",
        "model = compile_model(lr=0.002)\n",
        "\n",
        "RocAuc = RocAucEvaluation(validation_data=(X_val, y_val), interval=1)\n",
        "\n",
        "history = model.fit(X_tra, y_tra, batch_size=batch_size, epochs=epochs, validation_data=(X_val, y_val),\n",
        "                 callbacks=[RocAuc], verbose=2)"
      ],
      "execution_count": 17,
      "outputs": [
        {
          "output_type": "stream",
          "text": [
            "Train on 129251 samples, validate on 15958 samples\n",
            "Epoch 1/5\n",
            " - 316s - loss: 0.0652 - acc: 0.9782 - val_loss: 0.0485 - val_acc: 0.9821\n",
            "\n",
            " ROC-AUC - epoch: 1 - score: 0.979816\n",
            "Epoch 2/5\n",
            " - 315s - loss: 0.0440 - acc: 0.9834 - val_loss: 0.0471 - val_acc: 0.9827\n",
            "\n",
            " ROC-AUC - epoch: 2 - score: 0.983439\n",
            "Epoch 3/5\n",
            " - 315s - loss: 0.0385 - acc: 0.9850 - val_loss: 0.0458 - val_acc: 0.9827\n",
            "\n",
            " ROC-AUC - epoch: 3 - score: 0.983998\n",
            "Epoch 4/5\n",
            " - 315s - loss: 0.0341 - acc: 0.9866 - val_loss: 0.0492 - val_acc: 0.9819\n",
            "\n",
            " ROC-AUC - epoch: 4 - score: 0.982776\n",
            "Epoch 5/5\n",
            " - 317s - loss: 0.0301 - acc: 0.9881 - val_loss: 0.0519 - val_acc: 0.9819\n",
            "\n",
            " ROC-AUC - epoch: 5 - score: 0.981163\n"
          ],
          "name": "stdout"
        }
      ]
    },
    {
      "metadata": {
        "id": "nT6q_gH1pc31",
        "colab_type": "code",
        "colab": {
          "base_uri": "https://localhost:8080/",
          "height": 338
        },
        "outputId": "9cb21e46-ff12-4610-f9fb-0fb2a819b255"
      },
      "cell_type": "code",
      "source": [
        "plot = plot_history(hs={'': history}, epochs=epochs)"
      ],
      "execution_count": 18,
      "outputs": [
        {
          "output_type": "display_data",
          "data": {
            "image/png": "[encoded data removed]",
            "text/plain": [
              "<Figure size 720x360 with 1 Axes>"
            ]
          },
          "metadata": {
            "tags": []
          }
        }
      ]
    },
    {
      "metadata": {
        "id": "HKgDUDYcuHWu",
        "colab_type": "text"
      },
      "cell_type": "markdown",
      "source": [
        "# Train final model\n",
        "\n",
        "Use full training set with the final parameters"
      ]
    },
    {
      "metadata": {
        "id": "yl4RvB3zG7yC",
        "colab_type": "code",
        "colab": {
          "base_uri": "https://localhost:8080/",
          "height": 403
        },
        "outputId": "adbd582a-64bf-480d-9913-714508e32613"
      },
      "cell_type": "code",
      "source": [
        "model = compile_model(lr=0.002)\n",
        "model.summary()"
      ],
      "execution_count": 19,
      "outputs": [
        {
          "output_type": "stream",
          "text": [
            "_________________________________________________________________\n",
            "Layer (type)                 Output Shape              Param #   \n",
            "=================================================================\n",
            "input_6 (InputLayer)         (None, 200)               0         \n",
            "_________________________________________________________________\n",
            "embedding_6 (Embedding)      (None, 200, 128)          2560000   \n",
            "_________________________________________________________________\n",
            "cu_dnnlstm_6 (CuDNNLSTM)     (None, 200, 128)          132096    \n",
            "_________________________________________________________________\n",
            "dropout_6 (Dropout)          (None, 200, 128)          0         \n",
            "_________________________________________________________________\n",
            "seq_self_attention_6 (SeqSel (None, 200, 128)          8257      \n",
            "_________________________________________________________________\n",
            "global_max_pooling1d_6 (Glob (None, 128)               0         \n",
            "_________________________________________________________________\n",
            "dense_6 (Dense)              (None, 6)                 774       \n",
            "=================================================================\n",
            "Total params: 2,701,127\n",
            "Trainable params: 2,701,127\n",
            "Non-trainable params: 0\n",
            "_________________________________________________________________\n"
          ],
          "name": "stdout"
        }
      ]
    },
    {
      "metadata": {
        "id": "OyrNxWF0uRyR",
        "colab_type": "code",
        "colab": {
          "base_uri": "https://localhost:8080/",
          "height": 109
        },
        "outputId": "8110ea42-04f0-49cf-ddd0-a6428f590fe4"
      },
      "cell_type": "code",
      "source": [
        "epochs = 2\n",
        "model.fit(X_t,y, batch_size=batch_size, epochs=epochs)"
      ],
      "execution_count": 20,
      "outputs": [
        {
          "output_type": "stream",
          "text": [
            "Epoch 1/2\n",
            "159571/159571 [==============================] - 398s 2ms/step - loss: 0.0605 - acc: 0.9795\n",
            "Epoch 2/2\n",
            "159571/159571 [==============================] - 395s 2ms/step - loss: 0.0426 - acc: 0.9838\n"
          ],
          "name": "stdout"
        },
        {
          "output_type": "execute_result",
          "data": {
            "text/plain": [
              "<keras.callbacks.History at 0x7f6ff5c915f8>"
            ]
          },
          "metadata": {
            "tags": []
          },
          "execution_count": 20
        }
      ]
    },
    {
      "metadata": {
        "id": "I9GVl1bSFisa",
        "colab_type": "text"
      },
      "cell_type": "markdown",
      "source": [
        "# Predict test"
      ]
    },
    {
      "metadata": {
        "id": "AgSWmPOPyRZ2",
        "colab_type": "code",
        "outputId": "52fb4edf-2b83-4a44-ffbb-4267444b5879",
        "colab": {
          "base_uri": "https://localhost:8080/",
          "height": 35
        }
      },
      "cell_type": "code",
      "source": [
        "predictions = model.predict(X_te, batch_size=batch_size, verbose=1)"
      ],
      "execution_count": 21,
      "outputs": [
        {
          "output_type": "stream",
          "text": [
            "153164/153164 [==============================] - 125s 814us/step\n"
          ],
          "name": "stdout"
        }
      ]
    },
    {
      "metadata": {
        "id": "NuE4u5WGIWzY",
        "colab_type": "text"
      },
      "cell_type": "markdown",
      "source": [
        "# Save predictions for submission"
      ]
    },
    {
      "metadata": {
        "id": "tN2NmsqaH1WE",
        "colab_type": "code",
        "colab": {}
      },
      "cell_type": "code",
      "source": [
        "sample_submission[list_classes] = predictions"
      ],
      "execution_count": 0,
      "outputs": []
    },
    {
      "metadata": {
        "id": "Ak5cLwytH-vx",
        "colab_type": "code",
        "colab": {}
      },
      "cell_type": "code",
      "source": [
        "sample_submission.to_csv(path + 'submission.csv', index=False)"
      ],
      "execution_count": 0,
      "outputs": []
    },
    {
      "metadata": {
        "id": "LfY3hsOaW8OL",
        "colab_type": "code",
        "colab": {}
      },
      "cell_type": "code",
      "source": [
        ""
      ],
      "execution_count": 0,
      "outputs": []
    }
  ]
}