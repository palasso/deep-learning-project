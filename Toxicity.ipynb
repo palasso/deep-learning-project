{
  "nbformat": 4,
  "nbformat_minor": 0,
  "metadata": {
    "colab": {
      "name": "Toxicity.ipynb",
      "version": "0.3.2",
      "provenance": [],
      "collapsed_sections": []
    },
    "kernelspec": {
      "name": "python3",
      "display_name": "Python 3"
    },
    "accelerator": "GPU"
  },
  "cells": [
    {
      "metadata": {
        "id": "6yoHQXCyA_H8",
        "colab_type": "text"
      },
      "cell_type": "markdown",
      "source": [
        "# Mount GDrive"
      ]
    },
    {
      "metadata": {
        "id": "0rsJwBljGrPn",
        "colab_type": "code",
        "outputId": "c5403600-cd1a-451c-e881-7c1686647428",
        "colab": {
          "base_uri": "https://localhost:8080/",
          "height": 129
        }
      },
      "cell_type": "code",
      "source": [
        "from google.colab import drive\n",
        "drive.mount('/content/gdrive')"
      ],
      "execution_count": 1,
      "outputs": [
        {
          "output_type": "stream",
          "text": [
            "Go to this URL in a browser: https://accounts.google.com/o/oauth2/auth?client_id=947318989803-6bn6qk8qdgf4n4g3pfee6491hc0brc4i.apps.googleusercontent.com&redirect_uri=urn%3Aietf%3Awg%3Aoauth%3A2.0%3Aoob&scope=email%20https%3A%2F%2Fwww.googleapis.com%2Fauth%2Fdocs.test%20https%3A%2F%2Fwww.googleapis.com%2Fauth%2Fdrive%20https%3A%2F%2Fwww.googleapis.com%2Fauth%2Fdrive.photos.readonly%20https%3A%2F%2Fwww.googleapis.com%2Fauth%2Fpeopleapi.readonly&response_type=code\n",
            "\n",
            "Enter your authorization code:\n",
            "··········\n",
            "Mounted at /content/gdrive\n"
          ],
          "name": "stdout"
        }
      ]
    },
    {
      "metadata": {
        "id": "ja_9AfrSeK-b",
        "colab_type": "code",
        "colab": {
          "base_uri": "https://localhost:8080/",
          "height": 311
        },
        "outputId": "31bad9f8-9645-4c92-9f72-382dda9e67f8"
      },
      "cell_type": "code",
      "source": [
        "!pip3 install keras-self-attention"
      ],
      "execution_count": 2,
      "outputs": [
        {
          "output_type": "stream",
          "text": [
            "Collecting keras-self-attention\n",
            "  Downloading https://files.pythonhosted.org/packages/6a/c1/26fab70aba688fc40aa231fb475f958ff57db67ca8050eb9c2c8fe05fe72/keras-self-attention-0.36.0.tar.gz\n",
            "Requirement already satisfied: numpy in /usr/local/lib/python3.6/dist-packages (from keras-self-attention) (1.14.6)\n",
            "Requirement already satisfied: Keras in /usr/local/lib/python3.6/dist-packages (from keras-self-attention) (2.2.4)\n",
            "Requirement already satisfied: keras-preprocessing>=1.0.5 in /usr/local/lib/python3.6/dist-packages (from Keras->keras-self-attention) (1.0.9)\n",
            "Requirement already satisfied: keras-applications>=1.0.6 in /usr/local/lib/python3.6/dist-packages (from Keras->keras-self-attention) (1.0.7)\n",
            "Requirement already satisfied: h5py in /usr/local/lib/python3.6/dist-packages (from Keras->keras-self-attention) (2.8.0)\n",
            "Requirement already satisfied: pyyaml in /usr/local/lib/python3.6/dist-packages (from Keras->keras-self-attention) (3.13)\n",
            "Requirement already satisfied: scipy>=0.14 in /usr/local/lib/python3.6/dist-packages (from Keras->keras-self-attention) (1.1.0)\n",
            "Requirement already satisfied: six>=1.9.0 in /usr/local/lib/python3.6/dist-packages (from Keras->keras-self-attention) (1.11.0)\n",
            "Building wheels for collected packages: keras-self-attention\n",
            "  Building wheel for keras-self-attention (setup.py) ... \u001b[?25ldone\n",
            "\u001b[?25h  Stored in directory: /root/.cache/pip/wheels/40/fc/a7/5df49ef3cbfcdb217fa3990d047f637f0b2bdc287373f53729\n",
            "Successfully built keras-self-attention\n",
            "Installing collected packages: keras-self-attention\n",
            "Successfully installed keras-self-attention-0.36.0\n"
          ],
          "name": "stdout"
        }
      ]
    },
    {
      "metadata": {
        "id": "hoP8LZh1BO2Z",
        "colab_type": "text"
      },
      "cell_type": "markdown",
      "source": [
        "# Import libraries"
      ]
    },
    {
      "metadata": {
        "id": "wlL2Qh7RK-aG",
        "colab_type": "code",
        "outputId": "d64651d3-16c3-4a81-9a75-a3355beae411",
        "colab": {
          "base_uri": "https://localhost:8080/",
          "height": 35
        }
      },
      "cell_type": "code",
      "source": [
        "import sys, os, re, csv, codecs, numpy as np, pandas as pd\n",
        "import matplotlib.pyplot as plt\n",
        "from keras.preprocessing.text import Tokenizer\n",
        "from keras.preprocessing.sequence import pad_sequences\n",
        "from keras.layers import Dense, Input, LSTM, Embedding, Dropout, Activation, CuDNNLSTM\n",
        "from keras.layers import Bidirectional, GlobalMaxPool1D\n",
        "from keras.models import Model\n",
        "from keras.callbacks import Callback\n",
        "from keras.optimizers import Adam\n",
        "from keras import initializers, regularizers, constraints, optimizers, layers\n",
        "from keras_self_attention import SeqSelfAttention\n",
        "from sklearn.metrics import roc_auc_score\n",
        "from sklearn.model_selection import train_test_split\n",
        "%matplotlib inline"
      ],
      "execution_count": 3,
      "outputs": [
        {
          "output_type": "stream",
          "text": [
            "Using TensorFlow backend.\n"
          ],
          "name": "stderr"
        }
      ]
    },
    {
      "metadata": {
        "id": "y_3ixgr6ydAN",
        "colab_type": "text"
      },
      "cell_type": "markdown",
      "source": [
        "# Import data from GDrive"
      ]
    },
    {
      "metadata": {
        "id": "gxA_i5YXJyRl",
        "colab_type": "code",
        "colab": {}
      },
      "cell_type": "code",
      "source": [
        "path =  \"gdrive/My Drive/Colab Notebooks/Toxic Comments/\""
      ],
      "execution_count": 0,
      "outputs": []
    },
    {
      "metadata": {
        "id": "4h3RglY8JGVm",
        "colab_type": "code",
        "colab": {}
      },
      "cell_type": "code",
      "source": [
        "train = pd.read_csv(path + 'train.csv')\n",
        "test = pd.read_csv(path + 'test.csv')\n",
        "test_labels = pd.read_csv(path + 'test_labels.csv')\n",
        "sample_submission = pd.read_csv(path + 'sample_submission.csv')"
      ],
      "execution_count": 0,
      "outputs": []
    },
    {
      "metadata": {
        "id": "LlxcjxLYBSGE",
        "colab_type": "text"
      },
      "cell_type": "markdown",
      "source": [
        "# Preprocessing\n",
        "\n",
        "Check for null values."
      ]
    },
    {
      "metadata": {
        "id": "WD-NXdGCLghj",
        "colab_type": "code",
        "outputId": "c44964ed-5914-4ab8-95de-469cf8fff1a5",
        "colab": {
          "base_uri": "https://localhost:8080/",
          "height": 219
        }
      },
      "cell_type": "code",
      "source": [
        "train.isnull().any(),test.isnull().any()"
      ],
      "execution_count": 6,
      "outputs": [
        {
          "output_type": "execute_result",
          "data": {
            "text/plain": [
              "(id               False\n",
              " comment_text     False\n",
              " toxic            False\n",
              " severe_toxic     False\n",
              " obscene          False\n",
              " threat           False\n",
              " insult           False\n",
              " identity_hate    False\n",
              " dtype: bool, id              False\n",
              " comment_text    False\n",
              " dtype: bool)"
            ]
          },
          "metadata": {
            "tags": []
          },
          "execution_count": 6
        }
      ]
    },
    {
      "metadata": {
        "id": "HcDYAtAKTasz",
        "colab_type": "code",
        "colab": {}
      },
      "cell_type": "code",
      "source": [
        "list_classes = [\"toxic\", \"severe_toxic\", \"obscene\", \"threat\", \"insult\", \"identity_hate\"]\n",
        "y = train[list_classes].values\n",
        "list_sentences_train = train[\"comment_text\"]\n",
        "list_sentences_test = test[\"comment_text\"]"
      ],
      "execution_count": 0,
      "outputs": []
    },
    {
      "metadata": {
        "id": "R-ZuarQFBjlf",
        "colab_type": "text"
      },
      "cell_type": "markdown",
      "source": [
        "# Tokenize text\n",
        "\n",
        "We tokenize words and sentences.\n",
        "\n",
        "We need to identify ideal max length `maxlen` for sentence as well as max num of features `max_features`."
      ]
    },
    {
      "metadata": {
        "id": "NlKYHPtswVqn",
        "colab_type": "code",
        "colab": {}
      },
      "cell_type": "code",
      "source": [
        "max_features = 20000\n",
        "tokenizer = Tokenizer(num_words=max_features)\n",
        "tokenizer.fit_on_texts(list(list_sentences_train))\n",
        "list_tokenized_train = tokenizer.texts_to_sequences(list_sentences_train)\n",
        "list_tokenized_test = tokenizer.texts_to_sequences(list_sentences_test)"
      ],
      "execution_count": 0,
      "outputs": []
    },
    {
      "metadata": {
        "id": "Ssr5xycPwm2Z",
        "colab_type": "code",
        "colab": {}
      },
      "cell_type": "code",
      "source": [
        "totalNumWords = [len(one_comment) for one_comment in list_tokenized_train]"
      ],
      "execution_count": 0,
      "outputs": []
    },
    {
      "metadata": {
        "id": "P2XoQXN5_GCT",
        "colab_type": "code",
        "outputId": "a69af731-3ee3-4f26-d39f-0b4d96d8e83b",
        "colab": {
          "base_uri": "https://localhost:8080/",
          "height": 265
        }
      },
      "cell_type": "code",
      "source": [
        "plt.hist(totalNumWords,bins = np.arange(0,410,10))#[0,50,100,150,200,250,300,350,400])#,450,500,550,600,650,700,750,800,850,900])\n",
        "plt.show()"
      ],
      "execution_count": 10,
      "outputs": [
        {
          "output_type": "display_data",
          "data": {
            "image/png": "[encoded data removed]",
            "text/plain": [
              "<Figure size 432x288 with 1 Axes>"
            ]
          },
          "metadata": {
            "tags": []
          }
        }
      ]
    },
    {
      "metadata": {
        "id": "-LjTPY9gAw-q",
        "colab_type": "code",
        "colab": {}
      },
      "cell_type": "code",
      "source": [
        "maxlen = 200\n",
        "X_t = pad_sequences(list_tokenized_train, maxlen=maxlen)\n",
        "X_te = pad_sequences(list_tokenized_test, maxlen=maxlen)"
      ],
      "execution_count": 0,
      "outputs": []
    },
    {
      "metadata": {
        "id": "JvfWtgtZBmhQ",
        "colab_type": "text"
      },
      "cell_type": "markdown",
      "source": [
        "# Define helper methods\n",
        "\n",
        "Define ROC AOC and a method for plotting train and validation loss."
      ]
    },
    {
      "metadata": {
        "id": "qEjwfJ3cBhWO",
        "colab_type": "code",
        "colab": {}
      },
      "cell_type": "code",
      "source": [
        "class RocAucEvaluation(Callback):\n",
        "    def __init__(self, validation_data=(), interval=1):\n",
        "        super(Callback, self).__init__()\n",
        "\n",
        "        self.interval = interval\n",
        "        self.X_val, self.y_val = validation_data\n",
        "\n",
        "    def on_epoch_end(self, epoch, logs={}):\n",
        "        if epoch % self.interval == 0:\n",
        "            y_pred = self.model.predict(self.X_val, verbose=0)\n",
        "            score = roc_auc_score(self.y_val, y_pred)\n",
        "            print(\"\\n ROC-AUC - epoch: {:d} - score: {:.6f}\".format(epoch+1, score))"
      ],
      "execution_count": 0,
      "outputs": []
    },
    {
      "metadata": {
        "id": "zODIdpxEpBYI",
        "colab_type": "code",
        "colab": {}
      },
      "cell_type": "code",
      "source": [
        "def plot_history(hs, epochs):\n",
        "    plt.rcParams['figure.figsize'] = [10, 5]\n",
        "    plt.rcParams['font.size'] = 16\n",
        "    for label in hs:\n",
        "        plt.plot(hs[label].history['loss'], label='{0:s} train loss'.format(label))\n",
        "        plt.plot(hs[label].history['val_loss'], label='{0:s} validation loss'.format(label))\n",
        "    x_ticks = np.arange(0, epochs + 1, epochs / 5)\n",
        "    x_ticks [0] += 1\n",
        "    plt.xticks(x_ticks-1, ('1', '1', '2', '3', '4', '5'))\n",
        "    plt.ylim((0, 0.1))\n",
        "    plt.xlabel('Epochs')\n",
        "    plt.ylabel('binary crossentropy')\n",
        "    plt.legend()\n",
        "    plt.show()"
      ],
      "execution_count": 0,
      "outputs": []
    },
    {
      "metadata": {
        "id": "sFFgHeQ7B8ja",
        "colab_type": "text"
      },
      "cell_type": "markdown",
      "source": [
        "# Compiling the model"
      ]
    },
    {
      "metadata": {
        "id": "DoAQI18fea2j",
        "colab_type": "code",
        "colab": {}
      },
      "cell_type": "code",
      "source": [
        "def compile_model(dropout=0.2, lr=0.1):\n",
        "  inp = Input(shape=(maxlen, ))\n",
        "  embed_size = 128\n",
        "  x = Embedding(max_features, embed_size)(inp)\n",
        "  x = CuDNNLSTM(128, return_sequences=True)(x)\n",
        "  x = Dropout(dropout)(x)\n",
        "  x = SeqSelfAttention()(x)\n",
        "  x = GlobalMaxPool1D()(x)\n",
        "  x = Dense(6, activation=\"sigmoid\")(x)\n",
        "  model = Model(inputs=inp, outputs=x)\n",
        "  model.compile(loss='binary_crossentropy', optimizer=Adam(lr=lr), metrics=['accuracy'])\n",
        "  return model"
      ],
      "execution_count": 0,
      "outputs": []
    },
    {
      "metadata": {
        "id": "mLrBTSAf7qqf",
        "colab_type": "text"
      },
      "cell_type": "markdown",
      "source": [
        "# Split train data\n",
        "\n",
        "We split train data into train, held-out and validation data."
      ]
    },
    {
      "metadata": {
        "id": "XucU-UB0701V",
        "colab_type": "code",
        "colab": {
          "base_uri": "https://localhost:8080/",
          "height": 54
        },
        "outputId": "0d4035a3-ef23-48ab-c89f-5077c5bb32a2"
      },
      "cell_type": "code",
      "source": [
        "X_tra, X_val, y_tra, y_val = train_test_split(X_t, y, train_size=0.9)\n",
        "X_tra, X_hel, y_tra, y_hel = train_test_split(X_tra, y_tra, train_size=0.9)"
      ],
      "execution_count": 15,
      "outputs": [
        {
          "output_type": "stream",
          "text": [
            "/usr/local/lib/python3.6/dist-packages/sklearn/model_selection/_split.py:2179: FutureWarning: From version 0.21, test_size will always complement train_size unless both are specified.\n",
            "  FutureWarning)\n"
          ],
          "name": "stderr"
        }
      ]
    },
    {
      "metadata": {
        "id": "3eHLOJ2K4VK1",
        "colab_type": "text"
      },
      "cell_type": "markdown",
      "source": [
        "# Hyper-parameter tuning for learning rate"
      ]
    },
    {
      "metadata": {
        "id": "MHVpYd1n4bCE",
        "colab_type": "code",
        "colab": {
          "base_uri": "https://localhost:8080/",
          "height": 1370
        },
        "outputId": "cfe84a44-3fa5-4a96-8208-e6061f682f3e"
      },
      "cell_type": "code",
      "source": [
        "epochs = 1\n",
        "batch_size = 32\n",
        "RocAuc = RocAucEvaluation(validation_data=(X_hel, y_hel), interval=1)\n",
        "\n",
        "for i in range(1, 5):\n",
        "  lr = i/1000\n",
        "  model = compile_model(lr=lr)\n",
        "  print(\"Learning rate: {:.3f}\".format(lr))\n",
        "  history = model.fit(X_tra, y_tra, batch_size=batch_size, epochs=epochs, validation_data=(X_hel, y_hel),\n",
        "                 callbacks=[RocAuc], verbose=2)"
      ],
      "execution_count": 17,
      "outputs": [
        {
          "output_type": "stream",
          "text": [
            "Learning rate: 0.001\n",
            "WARNING:tensorflow:From /usr/local/lib/python3.6/dist-packages/tensorflow/python/ops/math_ops.py:3066: to_int32 (from tensorflow.python.ops.math_ops) is deprecated and will be removed in a future version.\n",
            "Instructions for updating:\n",
            "Use tf.cast instead.\n",
            "WARNING:tensorflow:From /usr/local/lib/python3.6/dist-packages/tensorflow/python/ops/math_grad.py:102: div (from tensorflow.python.ops.math_ops) is deprecated and will be removed in a future version.\n",
            "Instructions for updating:\n",
            "Deprecated in favor of operator or tf.math.divide.\n",
            "Train on 129251 samples, validate on 14362 samples\n",
            "Epoch 1/1\n",
            " - 325s - loss: 0.0672 - acc: 0.9781 - val_loss: 0.0505 - val_acc: 0.9817\n",
            "\n",
            " ROC-AUC - epoch: 1 - score: 0.974436\n",
            "Learning rate: 0.002\n",
            "Train on 129251 samples, validate on 14362 samples\n",
            "Epoch 1/1\n",
            " - 320s - loss: 0.0642 - acc: 0.9785 - val_loss: 0.0505 - val_acc: 0.9818\n",
            "\n",
            " ROC-AUC - epoch: 1 - score: 0.976452\n",
            "Learning rate: 0.003\n",
            "Train on 129251 samples, validate on 14362 samples\n",
            "Epoch 1/1\n",
            " - 324s - loss: 0.0633 - acc: 0.9784 - val_loss: 0.0513 - val_acc: 0.9815\n",
            "\n",
            " ROC-AUC - epoch: 1 - score: 0.975658\n",
            "Learning rate: 0.004\n",
            "Train on 129251 samples, validate on 14362 samples\n",
            "Epoch 1/1\n"
          ],
          "name": "stdout"
        },
        {
          "output_type": "error",
          "ename": "KeyboardInterrupt",
          "evalue": "ignored",
          "traceback": [
            "\u001b[0;31m---------------------------------------------------------------------------\u001b[0m",
            "\u001b[0;31mKeyboardInterrupt\u001b[0m                         Traceback (most recent call last)",
            "\u001b[0;32m<ipython-input-17-1bc2c40d8662>\u001b[0m in \u001b[0;36m<module>\u001b[0;34m()\u001b[0m\n\u001b[1;32m      8\u001b[0m   \u001b[0mprint\u001b[0m\u001b[0;34m(\u001b[0m\u001b[0;34m\"Learning rate: {:.3f}\"\u001b[0m\u001b[0;34m.\u001b[0m\u001b[0mformat\u001b[0m\u001b[0;34m(\u001b[0m\u001b[0mlr\u001b[0m\u001b[0;34m)\u001b[0m\u001b[0;34m)\u001b[0m\u001b[0;34m\u001b[0m\u001b[0;34m\u001b[0m\u001b[0m\n\u001b[1;32m      9\u001b[0m   history = model.fit(X_tra, y_tra, batch_size=batch_size, epochs=epochs, validation_data=(X_hel, y_hel),\n\u001b[0;32m---> 10\u001b[0;31m                  callbacks=[RocAuc], verbose=2)\n\u001b[0m",
            "\u001b[0;32m/usr/local/lib/python3.6/dist-packages/keras/engine/training.py\u001b[0m in \u001b[0;36mfit\u001b[0;34m(self, x, y, batch_size, epochs, verbose, callbacks, validation_split, validation_data, shuffle, class_weight, sample_weight, initial_epoch, steps_per_epoch, validation_steps, **kwargs)\u001b[0m\n\u001b[1;32m   1037\u001b[0m                                         \u001b[0minitial_epoch\u001b[0m\u001b[0;34m=\u001b[0m\u001b[0minitial_epoch\u001b[0m\u001b[0;34m,\u001b[0m\u001b[0;34m\u001b[0m\u001b[0;34m\u001b[0m\u001b[0m\n\u001b[1;32m   1038\u001b[0m                                         \u001b[0msteps_per_epoch\u001b[0m\u001b[0;34m=\u001b[0m\u001b[0msteps_per_epoch\u001b[0m\u001b[0;34m,\u001b[0m\u001b[0;34m\u001b[0m\u001b[0;34m\u001b[0m\u001b[0m\n\u001b[0;32m-> 1039\u001b[0;31m                                         validation_steps=validation_steps)\n\u001b[0m\u001b[1;32m   1040\u001b[0m \u001b[0;34m\u001b[0m\u001b[0m\n\u001b[1;32m   1041\u001b[0m     def evaluate(self, x=None, y=None,\n",
            "\u001b[0;32m/usr/local/lib/python3.6/dist-packages/keras/engine/training_arrays.py\u001b[0m in \u001b[0;36mfit_loop\u001b[0;34m(model, f, ins, out_labels, batch_size, epochs, verbose, callbacks, val_f, val_ins, shuffle, callback_metrics, initial_epoch, steps_per_epoch, validation_steps)\u001b[0m\n\u001b[1;32m    197\u001b[0m                     \u001b[0mins_batch\u001b[0m\u001b[0;34m[\u001b[0m\u001b[0mi\u001b[0m\u001b[0;34m]\u001b[0m \u001b[0;34m=\u001b[0m \u001b[0mins_batch\u001b[0m\u001b[0;34m[\u001b[0m\u001b[0mi\u001b[0m\u001b[0;34m]\u001b[0m\u001b[0;34m.\u001b[0m\u001b[0mtoarray\u001b[0m\u001b[0;34m(\u001b[0m\u001b[0;34m)\u001b[0m\u001b[0;34m\u001b[0m\u001b[0;34m\u001b[0m\u001b[0m\n\u001b[1;32m    198\u001b[0m \u001b[0;34m\u001b[0m\u001b[0m\n\u001b[0;32m--> 199\u001b[0;31m                 \u001b[0mouts\u001b[0m \u001b[0;34m=\u001b[0m \u001b[0mf\u001b[0m\u001b[0;34m(\u001b[0m\u001b[0mins_batch\u001b[0m\u001b[0;34m)\u001b[0m\u001b[0;34m\u001b[0m\u001b[0;34m\u001b[0m\u001b[0m\n\u001b[0m\u001b[1;32m    200\u001b[0m                 \u001b[0mouts\u001b[0m \u001b[0;34m=\u001b[0m \u001b[0mto_list\u001b[0m\u001b[0;34m(\u001b[0m\u001b[0mouts\u001b[0m\u001b[0;34m)\u001b[0m\u001b[0;34m\u001b[0m\u001b[0;34m\u001b[0m\u001b[0m\n\u001b[1;32m    201\u001b[0m                 \u001b[0;32mfor\u001b[0m \u001b[0ml\u001b[0m\u001b[0;34m,\u001b[0m \u001b[0mo\u001b[0m \u001b[0;32min\u001b[0m \u001b[0mzip\u001b[0m\u001b[0;34m(\u001b[0m\u001b[0mout_labels\u001b[0m\u001b[0;34m,\u001b[0m \u001b[0mouts\u001b[0m\u001b[0;34m)\u001b[0m\u001b[0;34m:\u001b[0m\u001b[0;34m\u001b[0m\u001b[0;34m\u001b[0m\u001b[0m\n",
            "\u001b[0;32m/usr/local/lib/python3.6/dist-packages/keras/backend/tensorflow_backend.py\u001b[0m in \u001b[0;36m__call__\u001b[0;34m(self, inputs)\u001b[0m\n\u001b[1;32m   2713\u001b[0m                 \u001b[0;32mreturn\u001b[0m \u001b[0mself\u001b[0m\u001b[0;34m.\u001b[0m\u001b[0m_legacy_call\u001b[0m\u001b[0;34m(\u001b[0m\u001b[0minputs\u001b[0m\u001b[0;34m)\u001b[0m\u001b[0;34m\u001b[0m\u001b[0;34m\u001b[0m\u001b[0m\n\u001b[1;32m   2714\u001b[0m \u001b[0;34m\u001b[0m\u001b[0m\n\u001b[0;32m-> 2715\u001b[0;31m             \u001b[0;32mreturn\u001b[0m \u001b[0mself\u001b[0m\u001b[0;34m.\u001b[0m\u001b[0m_call\u001b[0m\u001b[0;34m(\u001b[0m\u001b[0minputs\u001b[0m\u001b[0;34m)\u001b[0m\u001b[0;34m\u001b[0m\u001b[0;34m\u001b[0m\u001b[0m\n\u001b[0m\u001b[1;32m   2716\u001b[0m         \u001b[0;32melse\u001b[0m\u001b[0;34m:\u001b[0m\u001b[0;34m\u001b[0m\u001b[0;34m\u001b[0m\u001b[0m\n\u001b[1;32m   2717\u001b[0m             \u001b[0;32mif\u001b[0m \u001b[0mpy_any\u001b[0m\u001b[0;34m(\u001b[0m\u001b[0mis_tensor\u001b[0m\u001b[0;34m(\u001b[0m\u001b[0mx\u001b[0m\u001b[0;34m)\u001b[0m \u001b[0;32mfor\u001b[0m \u001b[0mx\u001b[0m \u001b[0;32min\u001b[0m \u001b[0minputs\u001b[0m\u001b[0;34m)\u001b[0m\u001b[0;34m:\u001b[0m\u001b[0;34m\u001b[0m\u001b[0;34m\u001b[0m\u001b[0m\n",
            "\u001b[0;32m/usr/local/lib/python3.6/dist-packages/keras/backend/tensorflow_backend.py\u001b[0m in \u001b[0;36m_call\u001b[0;34m(self, inputs)\u001b[0m\n\u001b[1;32m   2673\u001b[0m             \u001b[0mfetched\u001b[0m \u001b[0;34m=\u001b[0m \u001b[0mself\u001b[0m\u001b[0;34m.\u001b[0m\u001b[0m_callable_fn\u001b[0m\u001b[0;34m(\u001b[0m\u001b[0;34m*\u001b[0m\u001b[0marray_vals\u001b[0m\u001b[0;34m,\u001b[0m \u001b[0mrun_metadata\u001b[0m\u001b[0;34m=\u001b[0m\u001b[0mself\u001b[0m\u001b[0;34m.\u001b[0m\u001b[0mrun_metadata\u001b[0m\u001b[0;34m)\u001b[0m\u001b[0;34m\u001b[0m\u001b[0;34m\u001b[0m\u001b[0m\n\u001b[1;32m   2674\u001b[0m         \u001b[0;32melse\u001b[0m\u001b[0;34m:\u001b[0m\u001b[0;34m\u001b[0m\u001b[0;34m\u001b[0m\u001b[0m\n\u001b[0;32m-> 2675\u001b[0;31m             \u001b[0mfetched\u001b[0m \u001b[0;34m=\u001b[0m \u001b[0mself\u001b[0m\u001b[0;34m.\u001b[0m\u001b[0m_callable_fn\u001b[0m\u001b[0;34m(\u001b[0m\u001b[0;34m*\u001b[0m\u001b[0marray_vals\u001b[0m\u001b[0;34m)\u001b[0m\u001b[0;34m\u001b[0m\u001b[0;34m\u001b[0m\u001b[0m\n\u001b[0m\u001b[1;32m   2676\u001b[0m         \u001b[0;32mreturn\u001b[0m \u001b[0mfetched\u001b[0m\u001b[0;34m[\u001b[0m\u001b[0;34m:\u001b[0m\u001b[0mlen\u001b[0m\u001b[0;34m(\u001b[0m\u001b[0mself\u001b[0m\u001b[0;34m.\u001b[0m\u001b[0moutputs\u001b[0m\u001b[0;34m)\u001b[0m\u001b[0;34m]\u001b[0m\u001b[0;34m\u001b[0m\u001b[0;34m\u001b[0m\u001b[0m\n\u001b[1;32m   2677\u001b[0m \u001b[0;34m\u001b[0m\u001b[0m\n",
            "\u001b[0;32m/usr/local/lib/python3.6/dist-packages/tensorflow/python/client/session.py\u001b[0m in \u001b[0;36m__call__\u001b[0;34m(self, *args, **kwargs)\u001b[0m\n\u001b[1;32m   1437\u001b[0m           ret = tf_session.TF_SessionRunCallable(\n\u001b[1;32m   1438\u001b[0m               \u001b[0mself\u001b[0m\u001b[0;34m.\u001b[0m\u001b[0m_session\u001b[0m\u001b[0;34m.\u001b[0m\u001b[0m_session\u001b[0m\u001b[0;34m,\u001b[0m \u001b[0mself\u001b[0m\u001b[0;34m.\u001b[0m\u001b[0m_handle\u001b[0m\u001b[0;34m,\u001b[0m \u001b[0margs\u001b[0m\u001b[0;34m,\u001b[0m \u001b[0mstatus\u001b[0m\u001b[0;34m,\u001b[0m\u001b[0;34m\u001b[0m\u001b[0;34m\u001b[0m\u001b[0m\n\u001b[0;32m-> 1439\u001b[0;31m               run_metadata_ptr)\n\u001b[0m\u001b[1;32m   1440\u001b[0m         \u001b[0;32mif\u001b[0m \u001b[0mrun_metadata\u001b[0m\u001b[0;34m:\u001b[0m\u001b[0;34m\u001b[0m\u001b[0;34m\u001b[0m\u001b[0m\n\u001b[1;32m   1441\u001b[0m           \u001b[0mproto_data\u001b[0m \u001b[0;34m=\u001b[0m \u001b[0mtf_session\u001b[0m\u001b[0;34m.\u001b[0m\u001b[0mTF_GetBuffer\u001b[0m\u001b[0;34m(\u001b[0m\u001b[0mrun_metadata_ptr\u001b[0m\u001b[0;34m)\u001b[0m\u001b[0;34m\u001b[0m\u001b[0;34m\u001b[0m\u001b[0m\n",
            "\u001b[0;31mKeyboardInterrupt\u001b[0m: "
          ]
        }
      ]
    },
    {
      "metadata": {
        "id": "te9vNY-OFc-a",
        "colab_type": "text"
      },
      "cell_type": "markdown",
      "source": [
        "# Early stopping"
      ]
    },
    {
      "metadata": {
        "id": "k9tauKf_Wp8c",
        "colab_type": "code",
        "colab": {
          "base_uri": "https://localhost:8080/",
          "height": 403
        },
        "outputId": "5d52e671-f179-46c2-94b6-0682f6e3993d"
      },
      "cell_type": "code",
      "source": [
        "epochs = 5\n",
        "\n",
        "model = compile_model(lr=0.002)\n",
        "\n",
        "RocAuc = RocAucEvaluation(validation_data=(X_val, y_val), interval=1)\n",
        "\n",
        "history = model.fit(X_tra, y_tra, batch_size=batch_size, epochs=epochs, validation_data=(X_val, y_val),\n",
        "                 callbacks=[RocAuc], verbose=2)"
      ],
      "execution_count": 18,
      "outputs": [
        {
          "output_type": "stream",
          "text": [
            "Train on 129251 samples, validate on 15958 samples\n",
            "Epoch 1/5\n",
            " - 323s - loss: 0.0676 - acc: 0.9773 - val_loss: 0.0484 - val_acc: 0.9826\n",
            "\n",
            " ROC-AUC - epoch: 1 - score: 0.974193\n",
            "Epoch 2/5\n",
            " - 322s - loss: 0.0442 - acc: 0.9832 - val_loss: 0.0474 - val_acc: 0.9831\n",
            "\n",
            " ROC-AUC - epoch: 2 - score: 0.977139\n",
            "Epoch 3/5\n",
            " - 323s - loss: 0.0388 - acc: 0.9848 - val_loss: 0.0477 - val_acc: 0.9832\n",
            "\n",
            " ROC-AUC - epoch: 3 - score: 0.980601\n",
            "Epoch 4/5\n",
            " - 322s - loss: 0.0343 - acc: 0.9864 - val_loss: 0.0479 - val_acc: 0.9834\n",
            "\n",
            " ROC-AUC - epoch: 4 - score: 0.980343\n",
            "Epoch 5/5\n",
            " - 323s - loss: 0.0303 - acc: 0.9880 - val_loss: 0.0517 - val_acc: 0.9830\n",
            "\n",
            " ROC-AUC - epoch: 5 - score: 0.977250\n"
          ],
          "name": "stdout"
        }
      ]
    },
    {
      "metadata": {
        "id": "nT6q_gH1pc31",
        "colab_type": "code",
        "colab": {
          "base_uri": "https://localhost:8080/",
          "height": 338
        },
        "outputId": "e3c7f7da-b8c3-485e-b493-b433c9dde2ea"
      },
      "cell_type": "code",
      "source": [
        "plot = plot_history(hs={'': history}, epochs=epochs)"
      ],
      "execution_count": 19,
      "outputs": [
        {
          "output_type": "display_data",
          "data": {
            "image/png": "[encoded data removed]",
            "text/plain": [
              "<Figure size 720x360 with 1 Axes>"
            ]
          },
          "metadata": {
            "tags": []
          }
        }
      ]
    },
    {
      "metadata": {
        "id": "HKgDUDYcuHWu",
        "colab_type": "text"
      },
      "cell_type": "markdown",
      "source": [
        "# Train final model\n",
        "\n",
        "Use full training set with the final parameters"
      ]
    },
    {
      "metadata": {
        "id": "yl4RvB3zG7yC",
        "colab_type": "code",
        "colab": {
          "base_uri": "https://localhost:8080/",
          "height": 403
        },
        "outputId": "4924e487-80cf-4906-ea41-300957541ad6"
      },
      "cell_type": "code",
      "source": [
        "model = compile_model(lr=0.002)\n",
        "model.summary()"
      ],
      "execution_count": 21,
      "outputs": [
        {
          "output_type": "stream",
          "text": [
            "_________________________________________________________________\n",
            "Layer (type)                 Output Shape              Param #   \n",
            "=================================================================\n",
            "input_8 (InputLayer)         (None, 200)               0         \n",
            "_________________________________________________________________\n",
            "embedding_8 (Embedding)      (None, 200, 128)          2560000   \n",
            "_________________________________________________________________\n",
            "cu_dnnlstm_8 (CuDNNLSTM)     (None, 200, 128)          132096    \n",
            "_________________________________________________________________\n",
            "dropout_8 (Dropout)          (None, 200, 128)          0         \n",
            "_________________________________________________________________\n",
            "seq_self_attention_8 (SeqSel (None, 200, 128)          8257      \n",
            "_________________________________________________________________\n",
            "global_max_pooling1d_8 (Glob (None, 128)               0         \n",
            "_________________________________________________________________\n",
            "dense_8 (Dense)              (None, 6)                 774       \n",
            "=================================================================\n",
            "Total params: 2,701,127\n",
            "Trainable params: 2,701,127\n",
            "Non-trainable params: 0\n",
            "_________________________________________________________________\n"
          ],
          "name": "stdout"
        }
      ]
    },
    {
      "metadata": {
        "id": "OyrNxWF0uRyR",
        "colab_type": "code",
        "colab": {
          "base_uri": "https://localhost:8080/",
          "height": 109
        },
        "outputId": "fbf29ede-1537-4c10-db30-29340a04427c"
      },
      "cell_type": "code",
      "source": [
        "epochs = 2\n",
        "model.fit(X_t,y, batch_size=batch_size, epochs=epochs)"
      ],
      "execution_count": 22,
      "outputs": [
        {
          "output_type": "stream",
          "text": [
            "Epoch 1/2\n",
            "159571/159571 [==============================] - 404s 3ms/step - loss: 0.0616 - acc: 0.9789\n",
            "Epoch 2/2\n",
            "159571/159571 [==============================] - 400s 3ms/step - loss: 0.0440 - acc: 0.9834\n"
          ],
          "name": "stdout"
        },
        {
          "output_type": "execute_result",
          "data": {
            "text/plain": [
              "<keras.callbacks.History at 0x7f98e1c4eb00>"
            ]
          },
          "metadata": {
            "tags": []
          },
          "execution_count": 22
        }
      ]
    },
    {
      "metadata": {
        "id": "I9GVl1bSFisa",
        "colab_type": "text"
      },
      "cell_type": "markdown",
      "source": [
        "# Predict test"
      ]
    },
    {
      "metadata": {
        "id": "AgSWmPOPyRZ2",
        "colab_type": "code",
        "outputId": "793d502b-3c92-4e41-a560-fffe2f061808",
        "colab": {
          "base_uri": "https://localhost:8080/",
          "height": 35
        }
      },
      "cell_type": "code",
      "source": [
        "predictions = model.predict(X_te, batch_size=batch_size, verbose=1)"
      ],
      "execution_count": 23,
      "outputs": [
        {
          "output_type": "stream",
          "text": [
            "153164/153164 [==============================] - 128s 835us/step\n"
          ],
          "name": "stdout"
        }
      ]
    },
    {
      "metadata": {
        "id": "NuE4u5WGIWzY",
        "colab_type": "text"
      },
      "cell_type": "markdown",
      "source": [
        "# Save predictions for submission"
      ]
    },
    {
      "metadata": {
        "id": "tN2NmsqaH1WE",
        "colab_type": "code",
        "colab": {}
      },
      "cell_type": "code",
      "source": [
        "sample_submission[list_classes] = predictions"
      ],
      "execution_count": 0,
      "outputs": []
    },
    {
      "metadata": {
        "id": "Ak5cLwytH-vx",
        "colab_type": "code",
        "colab": {}
      },
      "cell_type": "code",
      "source": [
        "sample_submission.to_csv(path + 'submission.csv', index=False)"
      ],
      "execution_count": 0,
      "outputs": []
    },
    {
      "metadata": {
        "id": "LfY3hsOaW8OL",
        "colab_type": "code",
        "colab": {}
      },
      "cell_type": "code",
      "source": [
        ""
      ],
      "execution_count": 0,
      "outputs": []
    }
  ]
}